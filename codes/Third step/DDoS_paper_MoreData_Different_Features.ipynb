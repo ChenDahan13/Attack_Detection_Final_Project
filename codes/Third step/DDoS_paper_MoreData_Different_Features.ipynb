{
 "cells": [
  {
   "cell_type": "markdown",
   "metadata": {},
   "source": [
    "# More data and merged dos lables - different features"
   ]
  },
  {
   "cell_type": "code",
   "execution_count": 13,
   "metadata": {},
   "outputs": [],
   "source": [
    "import pandas as pd\n",
    "import numpy as np\n",
    "import matplotlib.pyplot as plt\n",
    "import seaborn as sns\n",
    "from scipy.stats import norm\n",
    "from sklearn.preprocessing import StandardScaler\n",
    "from scipy import stats\n",
    "import warnings\n",
    "Friday_data = \"Friday-WorkingHours-Afternoon-DDos.pcap_ISCX.csv\"\n",
    "Wednesday_data = \"Wednesday-workingHours.pcap_ISCX.csv\"\n",
    "# Read the existing DataFrame from the first CSV file\n",
    "df1 = pd.read_csv(Friday_data, sep=',')\n",
    "\n",
    "# Read the new data from the second CSV file\n",
    "df2 = pd.read_csv(Wednesday_data, sep=',')\n",
    "\n",
    "# Append the new data to the end of the existing DataFrame\n",
    "merged_df = pd.concat([df1, df2], ignore_index=True)\n"
   ]
  },
  {
   "cell_type": "code",
   "execution_count": 14,
   "metadata": {},
   "outputs": [
    {
     "data": {
      "text/plain": [
       "(918448, 79)"
      ]
     },
     "execution_count": 14,
     "metadata": {},
     "output_type": "execute_result"
    }
   ],
   "source": [
    "merged_df.shape"
   ]
  },
  {
   "cell_type": "code",
   "execution_count": 15,
   "metadata": {},
   "outputs": [
    {
     "data": {
      "text/plain": [
       "True"
      ]
     },
     "execution_count": 15,
     "metadata": {},
     "output_type": "execute_result"
    }
   ],
   "source": [
    "merged_df.isnull().any().any() # check if we have nan values."
   ]
  },
  {
   "cell_type": "code",
   "execution_count": 16,
   "metadata": {},
   "outputs": [
    {
     "data": {
      "text/plain": [
       "False"
      ]
     },
     "execution_count": 16,
     "metadata": {},
     "output_type": "execute_result"
    }
   ],
   "source": [
    "#PREPROCCSING\n",
    "# Replace infinite or very large values with NaN\n",
    "merged_df.replace([np.inf, -np.inf], np.nan, inplace=True)\n",
    "\n",
    "#drop any instance that is missing a feture\n",
    "merged_df = merged_df.dropna()\n",
    "merged_df.isnull().any().any() # check if we have nan values."
   ]
  },
  {
   "cell_type": "code",
   "execution_count": 17,
   "metadata": {},
   "outputs": [
    {
     "data": {
      "text/plain": [
       "array(['BENIGN', 'DDoS'], dtype=object)"
      ]
     },
     "execution_count": 17,
     "metadata": {},
     "output_type": "execute_result"
    }
   ],
   "source": [
    "merged_df[' Label'].unique()"
   ]
  },
  {
   "cell_type": "code",
   "execution_count": 18,
   "metadata": {},
   "outputs": [
    {
     "data": {
      "text/plain": [
       "(917117, 79)"
      ]
     },
     "execution_count": 18,
     "metadata": {},
     "output_type": "execute_result"
    }
   ],
   "source": [
    "merged_df.shape"
   ]
  },
  {
   "cell_type": "code",
   "execution_count": 20,
   "metadata": {},
   "outputs": [],
   "source": [
    "#Selected fetaures from an article \n",
    "columns_to_keep = [\n",
    "    ' Fwd IAT Min',\n",
    "    'Init_Win_bytes_forward',\n",
    "    ' Destination Port',\n",
    "    ' Bwd Packet Length Min',\n",
    "    ' Init_Win_bytes_backward',\n",
    "    ' Subflow Fwd Bytes',\n",
    "    ' Total Fwd Packets',\n",
    "    ' Total Length of Bwd Packets',\n",
    "    ' Bwd Packet Length Mean',\n",
    "    ' Fwd Packet Length Min'\n",
    "]\n",
    "X = merged_df[columns_to_keep]\n",
    "y = merged_df[' Label']"
   ]
  },
  {
   "cell_type": "code",
   "execution_count": 21,
   "metadata": {},
   "outputs": [
    {
     "data": {
      "text/html": [
       "<div>\n",
       "<style scoped>\n",
       "    .dataframe tbody tr th:only-of-type {\n",
       "        vertical-align: middle;\n",
       "    }\n",
       "\n",
       "    .dataframe tbody tr th {\n",
       "        vertical-align: top;\n",
       "    }\n",
       "\n",
       "    .dataframe thead th {\n",
       "        text-align: right;\n",
       "    }\n",
       "</style>\n",
       "<table border=\"1\" class=\"dataframe\">\n",
       "  <thead>\n",
       "    <tr style=\"text-align: right;\">\n",
       "      <th></th>\n",
       "      <th>Fwd IAT Min</th>\n",
       "      <th>Init_Win_bytes_forward</th>\n",
       "      <th>Destination Port</th>\n",
       "      <th>Bwd Packet Length Min</th>\n",
       "      <th>Init_Win_bytes_backward</th>\n",
       "      <th>Subflow Fwd Bytes</th>\n",
       "      <th>Total Fwd Packets</th>\n",
       "      <th>Total Length of Bwd Packets</th>\n",
       "      <th>Bwd Packet Length Mean</th>\n",
       "      <th>Fwd Packet Length Min</th>\n",
       "    </tr>\n",
       "  </thead>\n",
       "  <tbody>\n",
       "    <tr>\n",
       "      <th>0</th>\n",
       "      <td>3</td>\n",
       "      <td>33</td>\n",
       "      <td>54865</td>\n",
       "      <td>0</td>\n",
       "      <td>-1</td>\n",
       "      <td>12</td>\n",
       "      <td>2</td>\n",
       "      <td>0</td>\n",
       "      <td>0.0</td>\n",
       "      <td>6</td>\n",
       "    </tr>\n",
       "    <tr>\n",
       "      <th>1</th>\n",
       "      <td>0</td>\n",
       "      <td>29</td>\n",
       "      <td>55054</td>\n",
       "      <td>6</td>\n",
       "      <td>256</td>\n",
       "      <td>6</td>\n",
       "      <td>1</td>\n",
       "      <td>6</td>\n",
       "      <td>6.0</td>\n",
       "      <td>6</td>\n",
       "    </tr>\n",
       "    <tr>\n",
       "      <th>2</th>\n",
       "      <td>0</td>\n",
       "      <td>29</td>\n",
       "      <td>55055</td>\n",
       "      <td>6</td>\n",
       "      <td>256</td>\n",
       "      <td>6</td>\n",
       "      <td>1</td>\n",
       "      <td>6</td>\n",
       "      <td>6.0</td>\n",
       "      <td>6</td>\n",
       "    </tr>\n",
       "    <tr>\n",
       "      <th>3</th>\n",
       "      <td>0</td>\n",
       "      <td>31</td>\n",
       "      <td>46236</td>\n",
       "      <td>6</td>\n",
       "      <td>329</td>\n",
       "      <td>6</td>\n",
       "      <td>1</td>\n",
       "      <td>6</td>\n",
       "      <td>6.0</td>\n",
       "      <td>6</td>\n",
       "    </tr>\n",
       "    <tr>\n",
       "      <th>4</th>\n",
       "      <td>3</td>\n",
       "      <td>32</td>\n",
       "      <td>54863</td>\n",
       "      <td>0</td>\n",
       "      <td>-1</td>\n",
       "      <td>12</td>\n",
       "      <td>2</td>\n",
       "      <td>0</td>\n",
       "      <td>0.0</td>\n",
       "      <td>6</td>\n",
       "    </tr>\n",
       "    <tr>\n",
       "      <th>...</th>\n",
       "      <td>...</td>\n",
       "      <td>...</td>\n",
       "      <td>...</td>\n",
       "      <td>...</td>\n",
       "      <td>...</td>\n",
       "      <td>...</td>\n",
       "      <td>...</td>\n",
       "      <td>...</td>\n",
       "      <td>...</td>\n",
       "      <td>...</td>\n",
       "    </tr>\n",
       "    <tr>\n",
       "      <th>918443</th>\n",
       "      <td>4</td>\n",
       "      <td>-1</td>\n",
       "      <td>53</td>\n",
       "      <td>76</td>\n",
       "      <td>-1</td>\n",
       "      <td>112</td>\n",
       "      <td>4</td>\n",
       "      <td>152</td>\n",
       "      <td>76.0</td>\n",
       "      <td>28</td>\n",
       "    </tr>\n",
       "    <tr>\n",
       "      <th>918444</th>\n",
       "      <td>2</td>\n",
       "      <td>-1</td>\n",
       "      <td>53</td>\n",
       "      <td>181</td>\n",
       "      <td>-1</td>\n",
       "      <td>84</td>\n",
       "      <td>2</td>\n",
       "      <td>362</td>\n",
       "      <td>181.0</td>\n",
       "      <td>42</td>\n",
       "    </tr>\n",
       "    <tr>\n",
       "      <th>918445</th>\n",
       "      <td>4</td>\n",
       "      <td>1006</td>\n",
       "      <td>58030</td>\n",
       "      <td>6</td>\n",
       "      <td>0</td>\n",
       "      <td>31</td>\n",
       "      <td>2</td>\n",
       "      <td>6</td>\n",
       "      <td>6.0</td>\n",
       "      <td>0</td>\n",
       "    </tr>\n",
       "    <tr>\n",
       "      <th>918446</th>\n",
       "      <td>1</td>\n",
       "      <td>-1</td>\n",
       "      <td>53</td>\n",
       "      <td>128</td>\n",
       "      <td>-1</td>\n",
       "      <td>192</td>\n",
       "      <td>6</td>\n",
       "      <td>256</td>\n",
       "      <td>128.0</td>\n",
       "      <td>32</td>\n",
       "    </tr>\n",
       "    <tr>\n",
       "      <th>918447</th>\n",
       "      <td>1</td>\n",
       "      <td>-1</td>\n",
       "      <td>53</td>\n",
       "      <td>113</td>\n",
       "      <td>-1</td>\n",
       "      <td>188</td>\n",
       "      <td>4</td>\n",
       "      <td>226</td>\n",
       "      <td>113.0</td>\n",
       "      <td>47</td>\n",
       "    </tr>\n",
       "  </tbody>\n",
       "</table>\n",
       "<p>917117 rows × 10 columns</p>\n",
       "</div>"
      ],
      "text/plain": [
       "         Fwd IAT Min  Init_Win_bytes_forward   Destination Port  \\\n",
       "0                  3                      33              54865   \n",
       "1                  0                      29              55054   \n",
       "2                  0                      29              55055   \n",
       "3                  0                      31              46236   \n",
       "4                  3                      32              54863   \n",
       "...              ...                     ...                ...   \n",
       "918443             4                      -1                 53   \n",
       "918444             2                      -1                 53   \n",
       "918445             4                    1006              58030   \n",
       "918446             1                      -1                 53   \n",
       "918447             1                      -1                 53   \n",
       "\n",
       "         Bwd Packet Length Min   Init_Win_bytes_backward   Subflow Fwd Bytes  \\\n",
       "0                            0                        -1                  12   \n",
       "1                            6                       256                   6   \n",
       "2                            6                       256                   6   \n",
       "3                            6                       329                   6   \n",
       "4                            0                        -1                  12   \n",
       "...                        ...                       ...                 ...   \n",
       "918443                      76                        -1                 112   \n",
       "918444                     181                        -1                  84   \n",
       "918445                       6                         0                  31   \n",
       "918446                     128                        -1                 192   \n",
       "918447                     113                        -1                 188   \n",
       "\n",
       "         Total Fwd Packets   Total Length of Bwd Packets  \\\n",
       "0                        2                             0   \n",
       "1                        1                             6   \n",
       "2                        1                             6   \n",
       "3                        1                             6   \n",
       "4                        2                             0   \n",
       "...                    ...                           ...   \n",
       "918443                   4                           152   \n",
       "918444                   2                           362   \n",
       "918445                   2                             6   \n",
       "918446                   6                           256   \n",
       "918447                   4                           226   \n",
       "\n",
       "         Bwd Packet Length Mean   Fwd Packet Length Min  \n",
       "0                           0.0                       6  \n",
       "1                           6.0                       6  \n",
       "2                           6.0                       6  \n",
       "3                           6.0                       6  \n",
       "4                           0.0                       6  \n",
       "...                         ...                     ...  \n",
       "918443                     76.0                      28  \n",
       "918444                    181.0                      42  \n",
       "918445                      6.0                       0  \n",
       "918446                    128.0                      32  \n",
       "918447                    113.0                      47  \n",
       "\n",
       "[917117 rows x 10 columns]"
      ]
     },
     "execution_count": 21,
     "metadata": {},
     "output_type": "execute_result"
    }
   ],
   "source": [
    "X"
   ]
  },
  {
   "cell_type": "code",
   "execution_count": null,
   "metadata": {},
   "outputs": [],
   "source": [
    "#Random forest - split into train,test"
   ]
  },
  {
   "cell_type": "code",
   "execution_count": 9,
   "metadata": {},
   "outputs": [],
   "source": [
    "from sklearn.ensemble import RandomForestClassifier\n",
    "from sklearn.datasets import make_classification\n",
    "from sklearn.metrics import confusion_matrix\n",
    "from sklearn.model_selection import RandomizedSearchCV, train_test_split\n",
    "from sklearn.preprocessing import StandardScaler\n",
    "from sklearn import preprocessing\n",
    "\n",
    "X_train, X_test, y_train, y_test = train_test_split(X, y, test_size=0.2,random_state=42)\n",
    "\n",
    "#standardScaler normalization\n",
    "scaler = preprocessing.StandardScaler().fit(X_train)\n",
    "X_train_transformed = scaler.transform(X_train)\n",
    "X_test_transformed = scaler.transform(X_test)\n",
    "\n",
    "rf = RandomForestClassifier(max_depth=100, random_state=45)\n",
    "rf.fit(X_train_transformed, y_train)\n",
    "y_predicted = rf.predict(X_test_transformed)\n"
   ]
  },
  {
   "cell_type": "code",
   "execution_count": 10,
   "metadata": {},
   "outputs": [
    {
     "name": "stdout",
     "output_type": "stream",
     "text": [
      "Accuracy: 0.9997655704815074\n",
      "Precision: 0.9996829506724088\n",
      "Recall: 0.9997489860356968\n",
      "F1 Score: 0.9997159672635758\n",
      "Confusion Matrix:\n",
      " [[107707     24]\n",
      " [    19  75674]]\n"
     ]
    }
   ],
   "source": [
    "from sklearn.metrics import accuracy_score, precision_score, recall_score, f1_score, confusion_matrix\n",
    "\n",
    "# Assuming y_predicted and y_test are your predicted and true labels, respectively.\n",
    "accuracy = accuracy_score(y_test, y_predicted)\n",
    "precision = precision_score(y_test, y_predicted, pos_label='DDoS')\n",
    "recall = recall_score(y_test, y_predicted, pos_label='DDoS')\n",
    "f1 = f1_score(y_test, y_predicted, pos_label='DDoS')\n",
    "conf_matrix = confusion_matrix(y_test, y_predicted)\n",
    "\n",
    "print(\"Accuracy:\", accuracy)\n",
    "print(\"Precision:\", precision)\n",
    "print(\"Recall:\", recall)\n",
    "print(\"F1 Score:\", f1)\n",
    "print(\"Confusion Matrix:\\n\", conf_matrix)\n"
   ]
  },
  {
   "cell_type": "code",
   "execution_count": null,
   "metadata": {},
   "outputs": [],
   "source": [
    "#XGboost - split into train,test"
   ]
  },
  {
   "cell_type": "code",
   "execution_count": 25,
   "metadata": {},
   "outputs": [
    {
     "name": "stdout",
     "output_type": "stream",
     "text": [
      "Accuracy: 0.9997982815771109\n",
      "Precision: 0.9997742380609639\n",
      "Recall: 0.9998104000612058\n",
      "F1 Score: 0.9997923073615993\n",
      "Confusion Matrix:\n",
      " [[107248     28]\n",
      " [     9  76139]]\n"
     ]
    }
   ],
   "source": [
    "import xgboost as xgb\n",
    "from sklearn.preprocessing import LabelEncoder\n",
    "from sklearn.metrics import accuracy_score, precision_score, recall_score, f1_score, confusion_matrix\n",
    "from sklearn.model_selection import train_test_split\n",
    "from sklearn.preprocessing import StandardScaler\n",
    "from sklearn import preprocessing\n",
    "\n",
    "#Initialize LabelEncoder\n",
    "label_encoder = LabelEncoder()\n",
    "\n",
    "#create train and test sets\n",
    "X_train, X_test, y_train, y_test = train_test_split(X, y, test_size=0.2)\n",
    "\n",
    "#Fit and transform the labels in both training and test sets\n",
    "y_train_encoded = label_encoder.fit_transform(y_train)\n",
    "y_test_encoded = label_encoder.transform(y_test)\n",
    "\n",
    "#standardScaler normalization\n",
    "scaler = preprocessing.StandardScaler().fit(X_train)\n",
    "X_train_transformed = scaler.transform(X_train)\n",
    "X_test_transformed = scaler.transform(X_test)\n",
    "\n",
    "#Initialize XGBoost\n",
    "xgb_model = xgb.XGBClassifier()\n",
    "xgb_model.fit(X_train_transformed, y_train_encoded)\n",
    "y_predicted_encoded = xgb_model.predict(X_test_transformed)\n",
    "\n",
    "#Inverse transform the encoded labels to get the original class labels\n",
    "y_predicted = label_encoder.inverse_transform(y_predicted_encoded)\n",
    "\n",
    "#Calculate evaluation metrics\n",
    "accuracy = accuracy_score(y_test, y_predicted)\n",
    "precision = precision_score(y_test, y_predicted, average='macro')\n",
    "recall = recall_score(y_test, y_predicted, average='macro')\n",
    "f1 = f1_score(y_test, y_predicted, average='macro')\n",
    "conf_matrix = confusion_matrix(y_test, y_predicted)\n",
    "\n",
    "#Print evaluation metrics\n",
    "print(\"Accuracy:\", accuracy)\n",
    "print(\"Precision:\", precision)\n",
    "print(\"Recall:\", recall)\n",
    "print(\"F1 Score:\", f1)\n",
    "print(\"Confusion Matrix:\\n\", conf_matrix)"
   ]
  },
  {
   "cell_type": "code",
   "execution_count": 168,
   "metadata": {},
   "outputs": [],
   "source": [
    "from sklearn.feature_selection import RFE\n",
    "rf = RandomForestClassifier(random_state=45)\n",
    "# Initialize RFE with RandomForestClassifier\n",
    "rfe = RFE(estimator=rf, n_features_to_select=15)\n",
    "# Fit RFE and get the selected features\n",
    "X_train_rfe = rfe.fit_transform(X_train_transformed, y_train)"
   ]
  },
  {
   "cell_type": "code",
   "execution_count": 170,
   "metadata": {},
   "outputs": [
    {
     "name": "stdout",
     "output_type": "stream",
     "text": [
      "Index([' Fwd IAT Min', 'Init_Win_bytes_forward', ' Destination Port',\n",
      "       ' Bwd Packet Length Min', ' Init_Win_bytes_backward',\n",
      "       ' Subflow Fwd Bytes', ' Total Fwd Packets',\n",
      "       ' Total Length of Bwd Packets', ' Bwd Packet Length Mean',\n",
      "       ' Fwd Packet Length Min'],\n",
      "      dtype='object')\n"
     ]
    }
   ],
   "source": [
    "selected_feature=rfe.support_\n",
    "selected_feature_names=X.columns[selected_feature]\n",
    "print(selected_feature_names)"
   ]
  }
 ],
 "metadata": {
  "kernelspec": {
   "display_name": "Python 3 (ipykernel)",
   "language": "python",
   "name": "python3"
  },
  "language_info": {
   "codemirror_mode": {
    "name": "ipython",
    "version": 3
   },
   "file_extension": ".py",
   "mimetype": "text/x-python",
   "name": "python",
   "nbconvert_exporter": "python",
   "pygments_lexer": "ipython3",
   "version": "3.11.5"
  }
 },
 "nbformat": 4,
 "nbformat_minor": 2
}

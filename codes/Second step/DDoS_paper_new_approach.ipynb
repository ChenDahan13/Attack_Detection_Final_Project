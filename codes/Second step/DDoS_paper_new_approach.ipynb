{
 "cells": [
  {
   "cell_type": "code",
   "execution_count": null,
   "metadata": {},
   "outputs": [],
   "source": []
  },
  {
   "cell_type": "code",
   "execution_count": 1,
   "metadata": {
    "scrolled": true
   },
   "outputs": [
    {
     "name": "stdout",
     "output_type": "stream",
     "text": [
      "Requirement already satisfied: xgboost in c:\\users\\yossi\\anaconda3\\lib\\site-packages (2.0.3)\n",
      "Requirement already satisfied: numpy in c:\\users\\yossi\\anaconda3\\lib\\site-packages (from xgboost) (1.24.3)\n",
      "Requirement already satisfied: scipy in c:\\users\\yossi\\anaconda3\\lib\\site-packages (from xgboost) (1.11.1)\n",
      "Note: you may need to restart the kernel to use updated packages.\n"
     ]
    }
   ],
   "source": [
    "pip install xgboost"
   ]
  },
  {
   "cell_type": "code",
   "execution_count": 2,
   "metadata": {},
   "outputs": [],
   "source": [
    "# file path - this for linux windows you will need \"//\"\n",
    "import pandas as pd\n",
    "import numpy as np\n",
    "import matplotlib.pyplot as plt\n",
    "import seaborn as sns\n",
    "from scipy.stats import norm\n",
    "from sklearn.preprocessing import StandardScaler\n",
    "from scipy import stats\n",
    "import warnings\n",
    "\n",
    "Wednesday_data = \"path\"\n",
    "\n",
    "# Read the new data from the second CSV file\n",
    "df = pd.read_csv(Wednesday_data, sep=',')\n"
   ]
  },
  {
   "cell_type": "code",
   "execution_count": 3,
   "metadata": {},
   "outputs": [
    {
     "data": {
      "text/plain": [
       "(692703, 79)"
      ]
     },
     "execution_count": 3,
     "metadata": {},
     "output_type": "execute_result"
    }
   ],
   "source": [
    "df.shape"
   ]
  },
  {
   "cell_type": "code",
   "execution_count": 4,
   "metadata": {},
   "outputs": [
    {
     "data": {
      "text/plain": [
       "True"
      ]
     },
     "execution_count": 4,
     "metadata": {},
     "output_type": "execute_result"
    }
   ],
   "source": [
    "#df.describe()\n",
    "df.isnull().any().any()"
   ]
  },
  {
   "cell_type": "code",
   "execution_count": 5,
   "metadata": {},
   "outputs": [
    {
     "data": {
      "text/plain": [
       "False"
      ]
     },
     "execution_count": 5,
     "metadata": {},
     "output_type": "execute_result"
    }
   ],
   "source": [
    "#PREPROCCSING\n",
    "# Replace infinite or very large values with NaN\n",
    "df.replace([np.inf, -np.inf], np.nan, inplace=True)\n",
    "\n",
    "#drop any instance that is missing a feture\n",
    "df = df.dropna()\n",
    "df.isnull().any().any() # check if we have nan values."
   ]
  },
  {
   "cell_type": "code",
   "execution_count": 6,
   "metadata": {},
   "outputs": [
    {
     "data": {
      "text/plain": [
       "array(['BENIGN', 'DoS slowloris', 'DoS Slowhttptest', 'DoS Hulk',\n",
       "       'DoS GoldenEye', 'Heartbleed'], dtype=object)"
      ]
     },
     "execution_count": 6,
     "metadata": {},
     "output_type": "execute_result"
    }
   ],
   "source": [
    "#df.head(10)\n",
    "df[' Label'].unique()"
   ]
  },
  {
   "cell_type": "code",
   "execution_count": 7,
   "metadata": {},
   "outputs": [
    {
     "data": {
      "text/plain": [
       "(691406, 79)"
      ]
     },
     "execution_count": 7,
     "metadata": {},
     "output_type": "execute_result"
    }
   ],
   "source": [
    "df.shape"
   ]
  },
  {
   "cell_type": "code",
   "execution_count": 8,
   "metadata": {},
   "outputs": [],
   "source": [
    "features = [' Fwd IAT Min',\n",
    "    'Init_Win_bytes_forward',\n",
    "    ' Destination Port',\n",
    "    ' Bwd Packet Length Min',\n",
    "    ' Init_Win_bytes_backward',\n",
    "    ' Subflow Fwd Bytes',\n",
    "    ' Total Fwd Packets',\n",
    "    ' Total Length of Bwd Packets',\n",
    "    ' Bwd Packet Length Mean',\n",
    "    ' Fwd Packet Length Min',\n",
    "    ' PSH Flag Count',\n",
    "    ' Flow Packets/s',\n",
    "    ' Flow IAT Mean',\n",
    "    ' Packet Length Variance',\n",
    "    'Active Mean']\n",
    "x = df[features]\n",
    "\n",
    "y = df[' Label']"
   ]
  },
  {
   "cell_type": "code",
   "execution_count": 9,
   "metadata": {},
   "outputs": [
    {
     "data": {
      "text/html": [
       "<div>\n",
       "<style scoped>\n",
       "    .dataframe tbody tr th:only-of-type {\n",
       "        vertical-align: middle;\n",
       "    }\n",
       "\n",
       "    .dataframe tbody tr th {\n",
       "        vertical-align: top;\n",
       "    }\n",
       "\n",
       "    .dataframe thead th {\n",
       "        text-align: right;\n",
       "    }\n",
       "</style>\n",
       "<table border=\"1\" class=\"dataframe\">\n",
       "  <thead>\n",
       "    <tr style=\"text-align: right;\">\n",
       "      <th></th>\n",
       "      <th>Fwd IAT Min</th>\n",
       "      <th>Init_Win_bytes_forward</th>\n",
       "      <th>Destination Port</th>\n",
       "      <th>Bwd Packet Length Min</th>\n",
       "      <th>Init_Win_bytes_backward</th>\n",
       "      <th>Subflow Fwd Bytes</th>\n",
       "      <th>Total Fwd Packets</th>\n",
       "      <th>Total Length of Bwd Packets</th>\n",
       "      <th>Bwd Packet Length Mean</th>\n",
       "      <th>Fwd Packet Length Min</th>\n",
       "      <th>PSH Flag Count</th>\n",
       "      <th>Flow Packets/s</th>\n",
       "      <th>Flow IAT Mean</th>\n",
       "      <th>Packet Length Variance</th>\n",
       "      <th>Active Mean</th>\n",
       "    </tr>\n",
       "  </thead>\n",
       "  <tbody>\n",
       "    <tr>\n",
       "      <th>0</th>\n",
       "      <td>0</td>\n",
       "      <td>255</td>\n",
       "      <td>80</td>\n",
       "      <td>6</td>\n",
       "      <td>946</td>\n",
       "      <td>6</td>\n",
       "      <td>1</td>\n",
       "      <td>6</td>\n",
       "      <td>6.000000</td>\n",
       "      <td>6</td>\n",
       "      <td>0</td>\n",
       "      <td>52.208416</td>\n",
       "      <td>38308.000000</td>\n",
       "      <td>0.000000</td>\n",
       "      <td>0.0</td>\n",
       "    </tr>\n",
       "    <tr>\n",
       "      <th>1</th>\n",
       "      <td>1</td>\n",
       "      <td>29200</td>\n",
       "      <td>389</td>\n",
       "      <td>0</td>\n",
       "      <td>260</td>\n",
       "      <td>172</td>\n",
       "      <td>11</td>\n",
       "      <td>326</td>\n",
       "      <td>65.200000</td>\n",
       "      <td>0</td>\n",
       "      <td>1</td>\n",
       "      <td>33402.922760</td>\n",
       "      <td>31.933333</td>\n",
       "      <td>3195.595588</td>\n",
       "      <td>0.0</td>\n",
       "    </tr>\n",
       "    <tr>\n",
       "      <th>2</th>\n",
       "      <td>1</td>\n",
       "      <td>29200</td>\n",
       "      <td>88</td>\n",
       "      <td>0</td>\n",
       "      <td>2081</td>\n",
       "      <td>3150</td>\n",
       "      <td>10</td>\n",
       "      <td>3150</td>\n",
       "      <td>525.000000</td>\n",
       "      <td>0</td>\n",
       "      <td>1</td>\n",
       "      <td>14611.872150</td>\n",
       "      <td>73.000000</td>\n",
       "      <td>451250.132400</td>\n",
       "      <td>0.0</td>\n",
       "    </tr>\n",
       "    <tr>\n",
       "      <th>3</th>\n",
       "      <td>2</td>\n",
       "      <td>29200</td>\n",
       "      <td>389</td>\n",
       "      <td>0</td>\n",
       "      <td>0</td>\n",
       "      <td>3452</td>\n",
       "      <td>17</td>\n",
       "      <td>6660</td>\n",
       "      <td>555.000000</td>\n",
       "      <td>0</td>\n",
       "      <td>1</td>\n",
       "      <td>1907.141918</td>\n",
       "      <td>543.071429</td>\n",
       "      <td>496537.374700</td>\n",
       "      <td>0.0</td>\n",
       "    </tr>\n",
       "    <tr>\n",
       "      <th>4</th>\n",
       "      <td>1</td>\n",
       "      <td>29200</td>\n",
       "      <td>88</td>\n",
       "      <td>0</td>\n",
       "      <td>2081</td>\n",
       "      <td>3150</td>\n",
       "      <td>9</td>\n",
       "      <td>3152</td>\n",
       "      <td>525.333333</td>\n",
       "      <td>0</td>\n",
       "      <td>1</td>\n",
       "      <td>13736.263740</td>\n",
       "      <td>78.000000</td>\n",
       "      <td>496440.116700</td>\n",
       "      <td>0.0</td>\n",
       "    </tr>\n",
       "    <tr>\n",
       "      <th>...</th>\n",
       "      <td>...</td>\n",
       "      <td>...</td>\n",
       "      <td>...</td>\n",
       "      <td>...</td>\n",
       "      <td>...</td>\n",
       "      <td>...</td>\n",
       "      <td>...</td>\n",
       "      <td>...</td>\n",
       "      <td>...</td>\n",
       "      <td>...</td>\n",
       "      <td>...</td>\n",
       "      <td>...</td>\n",
       "      <td>...</td>\n",
       "      <td>...</td>\n",
       "      <td>...</td>\n",
       "    </tr>\n",
       "    <tr>\n",
       "      <th>692698</th>\n",
       "      <td>4</td>\n",
       "      <td>-1</td>\n",
       "      <td>53</td>\n",
       "      <td>76</td>\n",
       "      <td>-1</td>\n",
       "      <td>112</td>\n",
       "      <td>4</td>\n",
       "      <td>152</td>\n",
       "      <td>76.000000</td>\n",
       "      <td>28</td>\n",
       "      <td>0</td>\n",
       "      <td>186.248642</td>\n",
       "      <td>6443.000000</td>\n",
       "      <td>548.571429</td>\n",
       "      <td>0.0</td>\n",
       "    </tr>\n",
       "    <tr>\n",
       "      <th>692699</th>\n",
       "      <td>2</td>\n",
       "      <td>-1</td>\n",
       "      <td>53</td>\n",
       "      <td>181</td>\n",
       "      <td>-1</td>\n",
       "      <td>84</td>\n",
       "      <td>2</td>\n",
       "      <td>362</td>\n",
       "      <td>181.000000</td>\n",
       "      <td>42</td>\n",
       "      <td>0</td>\n",
       "      <td>12345.679010</td>\n",
       "      <td>108.000000</td>\n",
       "      <td>5796.300000</td>\n",
       "      <td>0.0</td>\n",
       "    </tr>\n",
       "    <tr>\n",
       "      <th>692700</th>\n",
       "      <td>4</td>\n",
       "      <td>1006</td>\n",
       "      <td>58030</td>\n",
       "      <td>6</td>\n",
       "      <td>0</td>\n",
       "      <td>31</td>\n",
       "      <td>2</td>\n",
       "      <td>6</td>\n",
       "      <td>6.000000</td>\n",
       "      <td>0</td>\n",
       "      <td>0</td>\n",
       "      <td>36585.365850</td>\n",
       "      <td>41.000000</td>\n",
       "      <td>267.333333</td>\n",
       "      <td>0.0</td>\n",
       "    </tr>\n",
       "    <tr>\n",
       "      <th>692701</th>\n",
       "      <td>1</td>\n",
       "      <td>-1</td>\n",
       "      <td>53</td>\n",
       "      <td>128</td>\n",
       "      <td>-1</td>\n",
       "      <td>192</td>\n",
       "      <td>6</td>\n",
       "      <td>256</td>\n",
       "      <td>128.000000</td>\n",
       "      <td>32</td>\n",
       "      <td>0</td>\n",
       "      <td>7.628965</td>\n",
       "      <td>149805.000000</td>\n",
       "      <td>1792.000000</td>\n",
       "      <td>0.0</td>\n",
       "    </tr>\n",
       "    <tr>\n",
       "      <th>692702</th>\n",
       "      <td>1</td>\n",
       "      <td>-1</td>\n",
       "      <td>53</td>\n",
       "      <td>113</td>\n",
       "      <td>-1</td>\n",
       "      <td>188</td>\n",
       "      <td>4</td>\n",
       "      <td>226</td>\n",
       "      <td>113.000000</td>\n",
       "      <td>47</td>\n",
       "      <td>0</td>\n",
       "      <td>63.198475</td>\n",
       "      <td>18987.800000</td>\n",
       "      <td>1037.142857</td>\n",
       "      <td>0.0</td>\n",
       "    </tr>\n",
       "  </tbody>\n",
       "</table>\n",
       "<p>691406 rows × 15 columns</p>\n",
       "</div>"
      ],
      "text/plain": [
       "         Fwd IAT Min  Init_Win_bytes_forward   Destination Port  \\\n",
       "0                  0                     255                 80   \n",
       "1                  1                   29200                389   \n",
       "2                  1                   29200                 88   \n",
       "3                  2                   29200                389   \n",
       "4                  1                   29200                 88   \n",
       "...              ...                     ...                ...   \n",
       "692698             4                      -1                 53   \n",
       "692699             2                      -1                 53   \n",
       "692700             4                    1006              58030   \n",
       "692701             1                      -1                 53   \n",
       "692702             1                      -1                 53   \n",
       "\n",
       "         Bwd Packet Length Min   Init_Win_bytes_backward   Subflow Fwd Bytes  \\\n",
       "0                            6                       946                   6   \n",
       "1                            0                       260                 172   \n",
       "2                            0                      2081                3150   \n",
       "3                            0                         0                3452   \n",
       "4                            0                      2081                3150   \n",
       "...                        ...                       ...                 ...   \n",
       "692698                      76                        -1                 112   \n",
       "692699                     181                        -1                  84   \n",
       "692700                       6                         0                  31   \n",
       "692701                     128                        -1                 192   \n",
       "692702                     113                        -1                 188   \n",
       "\n",
       "         Total Fwd Packets   Total Length of Bwd Packets  \\\n",
       "0                        1                             6   \n",
       "1                       11                           326   \n",
       "2                       10                          3150   \n",
       "3                       17                          6660   \n",
       "4                        9                          3152   \n",
       "...                    ...                           ...   \n",
       "692698                   4                           152   \n",
       "692699                   2                           362   \n",
       "692700                   2                             6   \n",
       "692701                   6                           256   \n",
       "692702                   4                           226   \n",
       "\n",
       "         Bwd Packet Length Mean   Fwd Packet Length Min   PSH Flag Count  \\\n",
       "0                      6.000000                       6                0   \n",
       "1                     65.200000                       0                1   \n",
       "2                    525.000000                       0                1   \n",
       "3                    555.000000                       0                1   \n",
       "4                    525.333333                       0                1   \n",
       "...                         ...                     ...              ...   \n",
       "692698                76.000000                      28                0   \n",
       "692699               181.000000                      42                0   \n",
       "692700                 6.000000                       0                0   \n",
       "692701               128.000000                      32                0   \n",
       "692702               113.000000                      47                0   \n",
       "\n",
       "         Flow Packets/s   Flow IAT Mean   Packet Length Variance  Active Mean  \n",
       "0             52.208416    38308.000000                 0.000000          0.0  \n",
       "1          33402.922760       31.933333              3195.595588          0.0  \n",
       "2          14611.872150       73.000000            451250.132400          0.0  \n",
       "3           1907.141918      543.071429            496537.374700          0.0  \n",
       "4          13736.263740       78.000000            496440.116700          0.0  \n",
       "...                 ...             ...                      ...          ...  \n",
       "692698       186.248642     6443.000000               548.571429          0.0  \n",
       "692699     12345.679010      108.000000              5796.300000          0.0  \n",
       "692700     36585.365850       41.000000               267.333333          0.0  \n",
       "692701         7.628965   149805.000000              1792.000000          0.0  \n",
       "692702        63.198475    18987.800000              1037.142857          0.0  \n",
       "\n",
       "[691406 rows x 15 columns]"
      ]
     },
     "execution_count": 9,
     "metadata": {},
     "output_type": "execute_result"
    }
   ],
   "source": [
    "x"
   ]
  },
  {
   "cell_type": "code",
   "execution_count": 10,
   "metadata": {
    "scrolled": false
   },
   "outputs": [
    {
     "data": {
      "text/plain": [
       "0         BENIGN\n",
       "1         BENIGN\n",
       "2         BENIGN\n",
       "3         BENIGN\n",
       "4         BENIGN\n",
       "           ...  \n",
       "692698    BENIGN\n",
       "692699    BENIGN\n",
       "692700    BENIGN\n",
       "692701    BENIGN\n",
       "692702    BENIGN\n",
       "Name:  Label, Length: 691406, dtype: object"
      ]
     },
     "execution_count": 10,
     "metadata": {},
     "output_type": "execute_result"
    }
   ],
   "source": [
    "y"
   ]
  },
  {
   "cell_type": "code",
   "execution_count": 11,
   "metadata": {},
   "outputs": [],
   "source": [
    "# First score - using rf with 15 features from another article"
   ]
  },
  {
   "cell_type": "code",
   "execution_count": 12,
   "metadata": {
    "scrolled": false
   },
   "outputs": [
    {
     "name": "stdout",
     "output_type": "stream",
     "text": [
      "Accuracy: 0.9989514181166023\n",
      "Precision: 0.9978040712901887\n",
      "Recall: 0.9947862778845332\n",
      "F1 Score: 0.9962864557648762\n",
      "Confusion Matrix:\n",
      " [[87818     0    87     3     1     0]\n",
      " [   21  2001     4     2     0     0]\n",
      " [    8     0 46077     0     0     0]\n",
      " [    4     0     0  1084     4     0]\n",
      " [    9     0     0     2  1155     0]\n",
      " [    0     0     0     0     0     2]]\n"
     ]
    }
   ],
   "source": [
    "from sklearn.metrics import accuracy_score, precision_score, recall_score, f1_score, confusion_matrix\n",
    "from sklearn.ensemble import RandomForestClassifier\n",
    "from sklearn.datasets import make_classification\n",
    "from sklearn.metrics import confusion_matrix\n",
    "from sklearn.model_selection import RandomizedSearchCV, train_test_split\n",
    "from sklearn.preprocessing import StandardScaler\n",
    "from sklearn import preprocessing\n",
    "\n",
    "X_train, X_test, y_train, y_test = train_test_split(x, y, test_size=0.2)\n",
    "\n",
    "#standardScaler normalization\n",
    "scaler = preprocessing.StandardScaler().fit(X_train)\n",
    "X_train_transformed = scaler.transform(X_train)\n",
    "X_test_transformed = scaler.transform(X_test)\n",
    "\n",
    "rf = RandomForestClassifier(max_depth=10, random_state=45)\n",
    "rf.fit(X_train_transformed, y_train)\n",
    "y_predicted = rf.predict(X_test_transformed)\n",
    "\n",
    "accuracy = accuracy_score(y_test, y_predicted)\n",
    "precision = precision_score(y_test, y_predicted, average = 'macro')\n",
    "recall = recall_score(y_test, y_predicted, average = 'macro')\n",
    "f1 = f1_score(y_test, y_predicted, average = 'macro')\n",
    "conf_matrix = confusion_matrix(y_test, y_predicted)\n",
    "\n",
    "print(\"Accuracy:\", accuracy)\n",
    "print(\"Precision:\", precision)\n",
    "print(\"Recall:\", recall)\n",
    "print(\"F1 Score:\", f1)\n",
    "print(\"Confusion Matrix:\\n\", conf_matrix)"
   ]
  },
  {
   "cell_type": "code",
   "execution_count": 13,
   "metadata": {},
   "outputs": [],
   "source": [
    "# Second score - using XGB with 15 features from another article"
   ]
  },
  {
   "cell_type": "code",
   "execution_count": 14,
   "metadata": {
    "scrolled": true
   },
   "outputs": [
    {
     "name": "stdout",
     "output_type": "stream",
     "text": [
      "Accuracy: 0.9997107360321662\n",
      "Precision: 0.9968704370641751\n",
      "Recall: 0.9968580210459592\n",
      "F1 Score: 0.9968638764657592\n",
      "Confusion Matrix:\n",
      " [[87989     0    14     2     1]\n",
      " [    0  2019     4     2     0]\n",
      " [    0     2 45999     0     1]\n",
      " [    2     0     0  1095     6]\n",
      " [    2     0     0     4  1140]]\n"
     ]
    }
   ],
   "source": [
    "import xgboost as xgb\n",
    "from sklearn.preprocessing import LabelEncoder\n",
    "from sklearn.metrics import accuracy_score, precision_score, recall_score, f1_score, confusion_matrix\n",
    "from sklearn.model_selection import train_test_split\n",
    "from sklearn.preprocessing import StandardScaler\n",
    "from sklearn import preprocessing\n",
    "\n",
    "# Initialize LabelEncoder\n",
    "label_encoder = LabelEncoder()\n",
    "\n",
    "# create train and test sets\n",
    "X_train, X_test, y_train, y_test = train_test_split(x, y, test_size=0.2)\n",
    "\n",
    "# Fit and transform the labels in both training and test sets\n",
    "y_train_encoded = label_encoder.fit_transform(y_train)\n",
    "y_test_encoded = label_encoder.transform(y_test)\n",
    "\n",
    "#standardScaler normalization\n",
    "scaler = preprocessing.StandardScaler().fit(X_train)\n",
    "X_train_transformed = scaler.transform(X_train)\n",
    "X_test_transformed = scaler.transform(X_test)\n",
    "\n",
    "# Initialize XGBoost\n",
    "xgb_model = xgb.XGBClassifier()\n",
    "xgb_model.fit(X_train_transformed, y_train_encoded)\n",
    "y_predicted_encoded = xgb_model.predict(X_test_transformed)\n",
    "\n",
    "# Inverse transform the encoded labels to get the original class labels\n",
    "y_predicted = label_encoder.inverse_transform(y_predicted_encoded)\n",
    "\n",
    "# Calculate evaluation metrics\n",
    "accuracy = accuracy_score(y_test, y_predicted)\n",
    "precision = precision_score(y_test, y_predicted, average = 'macro')\n",
    "recall = recall_score(y_test, y_predicted, average = 'macro')\n",
    "f1 = f1_score(y_test, y_predicted, average = 'macro')\n",
    "conf_matrix = confusion_matrix(y_test, y_predicted)\n",
    "\n",
    "# Print evaluation metrics\n",
    "print(\"Accuracy:\", accuracy)\n",
    "print(\"Precision:\", precision)\n",
    "print(\"Recall:\", recall)\n",
    "print(\"F1 Score:\", f1)\n",
    "print(\"Confusion Matrix:\\n\", conf_matrix)"
   ]
  },
  {
   "cell_type": "code",
   "execution_count": 17,
   "metadata": {},
   "outputs": [],
   "source": [
    "# Third score - Using ada boost with 15 features from another article"
   ]
  },
  {
   "cell_type": "code",
   "execution_count": 18,
   "metadata": {},
   "outputs": [
    {
     "name": "stdout",
     "output_type": "stream",
     "text": [
      "Validation Set Results:\n",
      "Accuracy: 0.7553549992045241\n",
      "Precision: 0.7553549992045241\n",
      "Recall: 0.7553549992045241\n",
      "F1 Score: 0.7553549992045241\n",
      "Confusion Matrix:\n",
      " [[40197  1247   955  1414    16     0]\n",
      " [   11   738    37   248     0     0]\n",
      " [  142 11944 11056     0     0     0]\n",
      " [   24   305     0   164    66     0]\n",
      " [   17   167     0   322    70     0]\n",
      " [    0     0     0     0     0     1]]\n",
      "\n",
      "Test Set Results:\n",
      "Accuracy: 0.7531999826441619\n",
      "Precision: 0.7531999826441619\n",
      "Recall: 0.7531999826441619\n",
      "F1 Score: 0.7531999826441619\n",
      "Confusion Matrix:\n",
      " [[40294  1271   970  1493    26     0]\n",
      " [   19   753    39   262     0     0]\n",
      " [  109 11969 10822     0     0     0]\n",
      " [   15   322     0   140    60     0]\n",
      " [   18   163     1   327    67     0]\n",
      " [    0     0     0     0     0     1]]\n"
     ]
    }
   ],
   "source": [
    "from sklearn.ensemble import AdaBoostClassifier\n",
    "from sklearn.metrics import accuracy_score, precision_score, recall_score, f1_score, confusion_matrix\n",
    "from sklearn.model_selection import train_test_split\n",
    "from sklearn.preprocessing import StandardScaler\n",
    "\n",
    "# Split the data\n",
    "X_train, X_temp, y_train, y_temp = train_test_split(x, y, test_size=0.2, random_state=42)\n",
    "X_val, X_test, y_val, y_test = train_test_split(X_temp, y_temp, test_size=0.5, random_state=42)\n",
    "\n",
    "# StandardScaler normalization\n",
    "scaler = StandardScaler().fit(X_train)\n",
    "X_train_transformed = scaler.transform(X_train)\n",
    "X_val_transformed = scaler.transform(X_val)\n",
    "X_test_transformed = scaler.transform(X_test)\n",
    "\n",
    "# Initialize and train the AdaBoost classifier\n",
    "ada_classifier = AdaBoostClassifier(n_estimators=50, random_state=42)\n",
    "ada_classifier.fit(X_train_transformed, y_train)\n",
    "\n",
    "# Predictions on validation set\n",
    "y_val_predicted = ada_classifier.predict(X_val_transformed)\n",
    "\n",
    "# Predictions on test set\n",
    "y_test_predicted = ada_classifier.predict(X_test_transformed)\n",
    "\n",
    "# Calculate evaluation metrics for validation set\n",
    "accuracy_val = accuracy_score(y_val, y_val_predicted)\n",
    "precision_val = precision_score(y_val, y_val_predicted, average = 'macro')\n",
    "recall_val = recall_score(y_val, y_val_predicted, average = 'macro')\n",
    "f1_val = f1_score(y_val, y_val_predicted, average = 'macro')\n",
    "conf_matrix_val = confusion_matrix(y_val, y_val_predicted)\n",
    "\n",
    "# Print evaluation metrics for validation set\n",
    "print(\"Validation Set Results:\")\n",
    "print(\"Accuracy:\", accuracy_val)\n",
    "print(\"Precision:\", precision_val)\n",
    "print(\"Recall:\", recall_val)\n",
    "print(\"F1 Score:\", f1_val)\n",
    "print(\"Confusion Matrix:\\n\", conf_matrix_val)\n",
    "\n",
    "# Calculate evaluation metrics for test set\n",
    "accuracy_test = accuracy_score(y_test, y_test_predicted)\n",
    "precision_test = precision_score(y_test, y_test_predicted, average = 'macro')\n",
    "recall_test = recall_score(y_test, y_test_predicted, average = 'macro')\n",
    "f1_test = f1_score(y_test, y_test_predicted, average = 'macro')\n",
    "conf_matrix_test = confusion_matrix(y_test, y_test_predicted)\n",
    "\n",
    "# Print evaluation metrics for test set\n",
    "print(\"\\nTest Set Results:\")\n",
    "print(\"Accuracy:\", accuracy_test)\n",
    "print(\"Precision:\", precision_test)\n",
    "print(\"Recall:\", recall_test)\n",
    "print(\"F1 Score:\", f1_test)\n",
    "print(\"Confusion Matrix:\\n\", conf_matrix_test)\n"
   ]
  }
 ],
 "metadata": {
  "kernelspec": {
   "display_name": "Python 3 (ipykernel)",
   "language": "python",
   "name": "python3"
  },
  "language_info": {
   "codemirror_mode": {
    "name": "ipython",
    "version": 3
   },
   "file_extension": ".py",
   "mimetype": "text/x-python",
   "name": "python",
   "nbconvert_exporter": "python",
   "pygments_lexer": "ipython3",
   "version": "3.11.5"
  }
 },
 "nbformat": 4,
 "nbformat_minor": 2
}
